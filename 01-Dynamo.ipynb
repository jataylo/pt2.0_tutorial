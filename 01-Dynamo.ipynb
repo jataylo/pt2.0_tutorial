{
 "cells": [
  {
   "cell_type": "markdown",
   "id": "fc735b09-82bf-4259-a7d5-b3ce1407b137",
   "metadata": {},
   "source": [
    "## Python - Frame Evaluation Framework"
   ]
  },
  {
   "cell_type": "markdown",
   "id": "42c4c575-6962-4d3a-b5e7-a4385f52d92c",
   "metadata": {},
   "source": [
    "### 01 - CPython interpreter & Python bytecode\n",
    "Python built-in module `dis` (diassembler) can be used to output the bytecode for python functions\n",
    "\n",
    "The bytecode will show:\n",
    "- The line number of the source code that corresponds to to the byte code\n",
    "- List of instructions the CPython interpreter will execute\n",
    "- Instruction pointers (0,2,4,6) indicate the position of each bytecode instruction in the bytecode sequence (to cover jumps)\n",
    "- Index of local variable"
   ]
  },
  {
   "cell_type": "code",
   "execution_count": 37,
   "id": "4177f608-3559-4771-98da-c7a23bd03a3a",
   "metadata": {},
   "outputs": [
    {
     "name": "stdout",
     "output_type": "stream",
     "text": [
      "  3           0 LOAD_FAST                0 (x)\n",
      "              2 LOAD_FAST                1 (y)\n",
      "              4 BINARY_ADD\n",
      "              6 RETURN_VALUE\n"
     ]
    }
   ],
   "source": [
    "#Foo-style function\n",
    "def foo(x, y):\n",
    "    return x + y\n",
    "\n",
    "import dis\n",
    "dis.dis(foo)"
   ]
  },
  {
   "cell_type": "markdown",
   "id": "a8e3599b-786f-4e10-be4f-6f98642f3293",
   "metadata": {},
   "source": [
    "We can also compile the function down to Python bytecode\n",
    "- def compile(source, filename, mode, flags=0, dont_inherit=False, optimize=-1)"
   ]
  },
  {
   "cell_type": "code",
   "execution_count": 74,
   "id": "bd7baccb-5622-4ae3-bf70-24d9fbef46a6",
   "metadata": {},
   "outputs": [
    {
     "name": "stdout",
     "output_type": "stream",
     "text": [
      "  2           0 LOAD_CONST               5 ((5, 7))\n",
      "              2 LOAD_CONST               2 (<code object foo_compile at 0x7f18dd538660, file \"<string>\", line 2>)\n",
      "              4 LOAD_CONST               3 ('foo_compile')\n",
      "              6 MAKE_FUNCTION            1 (defaults)\n",
      "              8 STORE_NAME               0 (foo_compile)\n",
      "             10 LOAD_CONST               4 (None)\n",
      "             12 RETURN_VALUE\n",
      "\n",
      "Disassembly of <code object foo_compile at 0x7f18dd538660, file \"<string>\", line 2>:\n",
      "  3           0 LOAD_FAST                0 (x)\n",
      "              2 LOAD_FAST                1 (y)\n",
      "              4 BINARY_ADD\n",
      "              6 RETURN_VALUE\n",
      "7\n"
     ]
    }
   ],
   "source": [
    "source = \"\"\"\n",
    "def foo_compile(x=5, y=7):\n",
    "    return x + y\n",
    "\"\"\"\n",
    "\n",
    "# filename: '<string>' to denote code string but could be file made\n",
    "# mode: 'exec', 'eval' 'single'\n",
    "bytecode = compile(source, '<string>', 'exec')\n",
    "\n",
    "# Run the bytecode in cpython - this example it defines the function\n",
    "exec(bytecode)\n",
    "dis.dis(bytecode)\n",
    "\n",
    "result = foo_compile(3, 4)\n",
    "print(result)\n"
   ]
  },
  {
   "cell_type": "code",
   "execution_count": 105,
   "id": "4ee9bcbc-4977-4be1-8c58-52a1a1f9440f",
   "metadata": {},
   "outputs": [
    {
     "name": "stdout",
     "output_type": "stream",
     "text": [
      "  4           0 LOAD_FAST                0 (x)\n",
      "              2 LOAD_FAST                1 (y)\n",
      "              4 BINARY_ADD\n",
      "              6 STORE_FAST               2 (result)\n",
      "\n",
      "  5           8 LOAD_GLOBAL              0 (inspect)\n",
      "             10 LOAD_METHOD              1 (currentframe)\n",
      "             12 CALL_METHOD              0\n",
      "             14 STORE_FAST               3 (frame)\n",
      "\n",
      "  6          16 LOAD_FAST                2 (result)\n",
      "             18 LOAD_FAST                3 (frame)\n",
      "             20 BUILD_TUPLE              2\n",
      "             22 RETURN_VALUE\n"
     ]
    }
   ],
   "source": [
    "import inspect\n",
    "\n",
    "def foo_compile(x=5, y=7):\n",
    "    result = x + y\n",
    "    frame = inspect.currentframe()\n",
    "    return result, frame\n",
    "\n",
    "result, pyt_frame = foo_compile(3, 4)\n",
    "\n",
    "dis.dis(foo_compile)\n",
    "\n"
   ]
  },
  {
   "cell_type": "code",
   "execution_count": 112,
   "id": "6cdd6059-728e-4298-aff2-e4f00bada954",
   "metadata": {},
   "outputs": [
    {
     "name": "stdout",
     "output_type": "stream",
     "text": [
      "<class 'frame'>\n",
      "All attributes of frame\n",
      "['__repr__', '__getattribute__', '__setattr__', '__delattr__', 'clear', '__sizeof__', 'f_back', 'f_code', 'f_builtins', 'f_globals', 'f_lasti', 'f_trace_lines', 'f_trace_opcodes', 'f_locals', 'f_lineno', 'f_trace', '__doc__', '__hash__', '__str__', '__lt__', '__le__', '__eq__', '__ne__', '__gt__', '__ge__', '__init__', '__new__', '__reduce_ex__', '__reduce__', '__subclasshook__', '__init_subclass__', '__format__', '__dir__', '__class__']\n",
      "Code object: <code object foo_compile at 0x7f18dd3bdbe0, file \"/tmp/ipykernel_81/2535985930.py\", line 3>\n",
      "Local variables: {'x': 3, 'y': 4, 'result': 7, 'frame': <frame at 0x7ffa640, file '/tmp/ipykernel_81/2535985930.py', line 6, code foo_compile>}\n",
      "Value of x: 3\n",
      "Back pointer to the previous frame: <frame at 0x849ff80, file '/tmp/ipykernel_81/2535985930.py', line 8, code <module>>\n",
      "Current line number in Python code: 6\n"
     ]
    }
   ],
   "source": [
    "# PyFrameObject\n",
    "print(type(pyt_frame))\n",
    "\n",
    "print(\"All attributes of frame\")\n",
    "print(frame.__dir__())\n",
    "\n",
    "print(\"Code object:\", frame.f_code)\n",
    "print(\"Local variables:\", frame.f_locals)\n",
    "#print(\"Global variables:\", frame.f_globals)\n",
    "print(\"Value of x:\", frame.f_locals['x'])\n",
    "print(\"Back pointer to the previous frame:\", frame.f_back)\n",
    "print(\"Current line number in Python code:\", frame.f_lineno)f"
   ]
  },
  {
   "cell_type": "code",
   "execution_count": 115,
   "id": "a7a47070-c53c-4a09-8836-0e17c061822f",
   "metadata": {},
   "outputs": [
    {
     "name": "stdout",
     "output_type": "stream",
     "text": [
      "<class 'code'>\n",
      "['__repr__', '__hash__', '__getattribute__', '__lt__', '__le__', '__eq__', '__ne__', '__gt__', '__ge__', '__new__', '__sizeof__', 'replace', 'co_argcount', 'co_posonlyargcount', 'co_kwonlyargcount', 'co_nlocals', 'co_stacksize', 'co_flags', 'co_code', 'co_consts', 'co_names', 'co_varnames', 'co_freevars', 'co_cellvars', 'co_filename', 'co_name', 'co_firstlineno', 'co_lnotab', '__doc__', '__str__', '__setattr__', '__delattr__', '__init__', '__reduce_ex__', '__reduce__', '__subclasshook__', '__init_subclass__', '__format__', '__dir__', '__class__']\n",
      "========================\n",
      "Actual bytecode as a bytes object\n",
      "b'd\\x05d\\x02d\\x03\\x84\\x01Z\\x00d\\x04S\\x00'\n",
      "Constants used in the bytecode\n",
      "(5, 7, <code object foo_compile at 0x7f18dd538660, file \"<string>\", line 2>, 'foo_compile', None, (5, 7))\n",
      "Names of the variables and functions\n",
      "('foo_compile',)\n",
      "Names of the local variables\n",
      "()\n",
      "Number of args\n",
      "0\n"
     ]
    }
   ],
   "source": [
    "#PyCodeObject\n",
    "print(type(frame.f_code))\n",
    "print(bytecode.__dir__())\n",
    "\n",
    "print(\"========================\")\n",
    "print(\"Actual bytecode as a bytes object\")\n",
    "print(bytecode.co_code)\n",
    "print(\"Constants used in the bytecode\")\n",
    "print(bytecode.co_consts)\n",
    "print(\"Names of the variables and functions\")\n",
    "print(bytecode.co_names)\n",
    "print(\"Names of the local variables\")\n",
    "print(bytecode.co_varnames)\n",
    "print(\"Number of args\")\n",
    "print(bytecode.co_argcount)"
   ]
  },
  {
   "cell_type": "markdown",
   "id": "e9ba007d-6dfe-466c-b7ca-6a7477343b88",
   "metadata": {},
   "source": [
    "### 02 - Frame Evaluation API https://peps.python.org/pep-0523/\n",
    "Instead of sending bytecode to interpreter it can be passed to any callback which could modify the bytecode and pass to the interpreter - which is what TorchDynamo does :)"
   ]
  },
  {
   "cell_type": "markdown",
   "id": "44ab2998-cc3d-436e-b004-798d7f95644d",
   "metadata": {},
   "source": [
    "### 03 - TorchDynamo\n",
    "https://pytorch.org/get-started/pytorch-2.0/\n",
    "\n",
    "Python:\n",
    "- Foo is a function call\n",
    "- This function call becomes a python frame object - each entry of a stack trace essentially\n",
    "- In each PyFrameObject lives a PyCodeObject which says which the files the functions are from, the constants/local variables\n",
    "- _PyEval_EvalFrameDefault() - Takes a frame and evalutes it with the interpreter\n",
    "- (31:44)\n",
    "\n",
    "Dynamo:\n",
    "- Uses the same foo function call, the same PyFrameObject and PyCodeObject\n",
    "- It extracts the torch components of the bytecode and produces several outputs\n",
    "       - It produces the FX Graph\n",
    "       - It produces a compiled function from a user-defined compiler using the lowered FX graph as input\n",
    "       - And it transforms the PyCodeObject bytecode and patches back into the Frame\n",
    "       - Along the way we accumulate guards to avoid excessive recompilation\n",
    "  \n",
    "  \n",
    "![Image](https://pytorch.org/docs/stable/_images/TorchDynamo.png)"
   ]
  },
  {
   "cell_type": "markdown",
   "id": "88f097db-e8ce-4822-a1cc-df1d06c74c75",
   "metadata": {},
   "source": [
    "### 03a - TorchDynamo - FX Graph & Graph breaks\n"
   ]
  },
  {
   "cell_type": "markdown",
   "id": "f0ec6f2b-91aa-47a7-8571-500c510d588d",
   "metadata": {},
   "source": [
    "### 03b - TorchDynamo - Specialization + Guards"
   ]
  },
  {
   "cell_type": "markdown",
   "id": "de42743f-95c9-4614-8f6a-492e1031149b",
   "metadata": {},
   "source": [
    "### 03c - TorchDynamo - Backends"
   ]
  },
  {
   "cell_type": "code",
   "execution_count": null,
   "id": "238bb16a-07fe-4688-bd40-b73f2b4f4c1c",
   "metadata": {},
   "outputs": [],
   "source": []
  }
 ],
 "metadata": {
  "kernelspec": {
   "display_name": "Python 3 (ipykernel)",
   "language": "python",
   "name": "python3"
  },
  "language_info": {
   "codemirror_mode": {
    "name": "ipython",
    "version": 3
   },
   "file_extension": ".py",
   "mimetype": "text/x-python",
   "name": "python",
   "nbconvert_exporter": "python",
   "pygments_lexer": "ipython3",
   "version": "3.8.16"
  }
 },
 "nbformat": 4,
 "nbformat_minor": 5
}
